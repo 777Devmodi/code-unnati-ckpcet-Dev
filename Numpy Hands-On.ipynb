{
 "cells": [
  {
   "cell_type": "markdown",
   "id": "647ed00a",
   "metadata": {},
   "source": [
    "# Numpy"
   ]
  },
  {
   "cell_type": "code",
   "execution_count": 3,
   "id": "87c3f34f",
   "metadata": {},
   "outputs": [],
   "source": [
    "import numpy as np"
   ]
  },
  {
   "cell_type": "code",
   "execution_count": 7,
   "id": "e4de5648",
   "metadata": {},
   "outputs": [
    {
     "data": {
      "text/plain": [
       "array([[1, 2, 3],\n",
       "       [4, 5, 6]])"
      ]
     },
     "execution_count": 7,
     "metadata": {},
     "output_type": "execute_result"
    }
   ],
   "source": [
    "#create simple array from the list\n",
    "\n",
    "arr =  np.array([[1,2,3],[4,5,6]])\n",
    "arr"
   ]
  },
  {
   "cell_type": "code",
   "execution_count": 8,
   "id": "4cb4adf8",
   "metadata": {},
   "outputs": [
    {
     "data": {
      "text/plain": [
       "numpy.ndarray"
      ]
     },
     "execution_count": 8,
     "metadata": {},
     "output_type": "execute_result"
    }
   ],
   "source": [
    "type(arr)"
   ]
  },
  {
   "cell_type": "code",
   "execution_count": 11,
   "id": "e345d6d3",
   "metadata": {},
   "outputs": [
    {
     "data": {
      "text/plain": [
       "2"
      ]
     },
     "execution_count": 11,
     "metadata": {},
     "output_type": "execute_result"
    }
   ],
   "source": [
    "# Printing the dimension of an array \n",
    "arr.ndim"
   ]
  },
  {
   "cell_type": "code",
   "execution_count": 13,
   "id": "87d56b4f",
   "metadata": {},
   "outputs": [
    {
     "data": {
      "text/plain": [
       "(2, 3)"
      ]
     },
     "execution_count": 13,
     "metadata": {},
     "output_type": "execute_result"
    }
   ],
   "source": [
    "# for shape i.e it state the rows and columns in that array\n",
    "arr.shape"
   ]
  },
  {
   "cell_type": "code",
   "execution_count": 4,
   "id": "c7db32b0",
   "metadata": {},
   "outputs": [
    {
     "data": {
      "text/plain": [
       "array([[1, 2, 3]])"
      ]
     },
     "execution_count": 4,
     "metadata": {},
     "output_type": "execute_result"
    }
   ],
   "source": [
    "# for single making and single dimension \n",
    "arr2= np.array([[1,2,3]])\n",
    "arr2"
   ]
  },
  {
   "cell_type": "code",
   "execution_count": 20,
   "id": "fd874c07",
   "metadata": {},
   "outputs": [
    {
     "name": "stdout",
     "output_type": "stream",
     "text": [
      "2\n"
     ]
    },
    {
     "data": {
      "text/plain": [
       "(1, 3)"
      ]
     },
     "execution_count": 20,
     "metadata": {},
     "output_type": "execute_result"
    }
   ],
   "source": [
    "print(arr2.ndim)\n",
    "arr2.shape"
   ]
  },
  {
   "cell_type": "code",
   "execution_count": 21,
   "id": "59cd48f5",
   "metadata": {},
   "outputs": [],
   "source": [
    "# creating (3,5) dimension array\n",
    "arr3= np.array([[12,15,22,41,54],[51,58,52,74,36],[14,79,46,16,78]])"
   ]
  },
  {
   "cell_type": "code",
   "execution_count": 22,
   "id": "86e6aaef",
   "metadata": {},
   "outputs": [
    {
     "data": {
      "text/plain": [
       "array([[12, 15, 22, 41, 54],\n",
       "       [51, 58, 52, 74, 36],\n",
       "       [14, 79, 46, 16, 78]])"
      ]
     },
     "execution_count": 22,
     "metadata": {},
     "output_type": "execute_result"
    }
   ],
   "source": [
    "arr3"
   ]
  },
  {
   "cell_type": "code",
   "execution_count": 23,
   "id": "969c6a53",
   "metadata": {},
   "outputs": [
    {
     "data": {
      "text/plain": [
       "2"
      ]
     },
     "execution_count": 23,
     "metadata": {},
     "output_type": "execute_result"
    }
   ],
   "source": [
    "arr3.ndim"
   ]
  },
  {
   "cell_type": "code",
   "execution_count": 25,
   "id": "6f99f3e0",
   "metadata": {},
   "outputs": [
    {
     "data": {
      "text/plain": [
       "(3, 5)"
      ]
     },
     "execution_count": 25,
     "metadata": {},
     "output_type": "execute_result"
    }
   ],
   "source": [
    "arr3.shape"
   ]
  },
  {
   "cell_type": "code",
   "execution_count": 29,
   "id": "fd24d9f6",
   "metadata": {},
   "outputs": [
    {
     "data": {
      "text/plain": [
       "<memory at 0x0000024921B9D6C0>"
      ]
     },
     "execution_count": 29,
     "metadata": {},
     "output_type": "execute_result"
    }
   ],
   "source": [
    "# to check where the array is store\n",
    "arr.data"
   ]
  },
  {
   "cell_type": "markdown",
   "id": "61f463e9",
   "metadata": {},
   "source": [
    "# Random Sequence generator using numpy"
   ]
  },
  {
   "cell_type": "code",
   "execution_count": 30,
   "id": "3c8987f2",
   "metadata": {},
   "outputs": [],
   "source": [
    "from numpy import random"
   ]
  },
  {
   "cell_type": "code",
   "execution_count": 36,
   "id": "5cf577c7",
   "metadata": {},
   "outputs": [
    {
     "name": "stdout",
     "output_type": "stream",
     "text": [
      "52\n"
     ]
    }
   ],
   "source": [
    "x= random.randint(100)\n",
    "print(x)"
   ]
  },
  {
   "cell_type": "code",
   "execution_count": 43,
   "id": "ed0cd272",
   "metadata": {},
   "outputs": [
    {
     "name": "stdout",
     "output_type": "stream",
     "text": [
      "825\n",
      "79\n",
      "285\n",
      "967\n",
      "206\n"
     ]
    }
   ],
   "source": [
    "# printing 5 rnadom number from the range of 1000\n",
    "for i in range(0,5):\n",
    "    print(random.randint(1000))"
   ]
  },
  {
   "cell_type": "code",
   "execution_count": 44,
   "id": "63e16613",
   "metadata": {},
   "outputs": [
    {
     "name": "stdout",
     "output_type": "stream",
     "text": [
      "0.8736589540490015\n"
     ]
    }
   ],
   "source": [
    "# Generating random float number\n",
    "y= random.rand()\n",
    "print(y)"
   ]
  },
  {
   "cell_type": "code",
   "execution_count": 45,
   "id": "aa76b203",
   "metadata": {},
   "outputs": [
    {
     "name": "stdout",
     "output_type": "stream",
     "text": [
      "0.2529778220336073\n",
      "0.39598656453287007\n",
      "0.9561657726843673\n",
      "0.9705878802226433\n",
      "0.4276889242869478\n"
     ]
    }
   ],
   "source": [
    "for i in range(0,5):\n",
    "    print(random.rand())"
   ]
  },
  {
   "cell_type": "code",
   "execution_count": 65,
   "id": "8d042e6d",
   "metadata": {},
   "outputs": [
    {
     "name": "stdout",
     "output_type": "stream",
     "text": [
      "[ 3 84  6  4 53]\n"
     ]
    }
   ],
   "source": [
    "#creating the random array\n",
    "\n",
    "z= random.randint(100,size=(5))\n",
    "print(z)"
   ]
  },
  {
   "cell_type": "code",
   "execution_count": 66,
   "id": "253049bb",
   "metadata": {},
   "outputs": [
    {
     "name": "stdout",
     "output_type": "stream",
     "text": [
      "[[72 14 64 51 71]\n",
      " [43 65 99  0 28]\n",
      " [42 86 14 81 61]]\n",
      "(3, 5)\n"
     ]
    }
   ],
   "source": [
    "# for and 2d array\n",
    "w = random.randint(100,size=(3,5))\n",
    "print(w)\n",
    "print(w.shape)"
   ]
  },
  {
   "cell_type": "markdown",
   "id": "8605ee6b",
   "metadata": {},
   "source": [
    "##  Practical --- Measurement for Central Tendency"
   ]
  },
  {
   "cell_type": "code",
   "execution_count": 67,
   "id": "064c6c3f",
   "metadata": {},
   "outputs": [
    {
     "name": "stdout",
     "output_type": "stream",
     "text": [
      "[[1 2 3]\n",
      " [4 5 6]]\n",
      "14\n",
      "96\n"
     ]
    }
   ],
   "source": [
    "import numpy as np\n",
    "arr1=np.array([[15,96,14],[41,49,51]])\n",
    "print(arr)\n",
    "\n",
    "# for printing the minimum element in an array\n",
    "print(np.amin(arr1))\n",
    "\n",
    "# for printing the maximum element in an array\n",
    "print(np.amax(arr1))"
   ]
  },
  {
   "cell_type": "code",
   "execution_count": 75,
   "id": "8d62ff6a",
   "metadata": {},
   "outputs": [
    {
     "name": "stdout",
     "output_type": "stream",
     "text": [
      "44.333333333333336\n",
      "45.0\n",
      "27.469174642780143\n",
      "754.5555555555555\n"
     ]
    }
   ],
   "source": [
    "# finding the mean , median , Standard Deviation and variance in numpy \n",
    "\n",
    "#mean --\n",
    "print(np.mean(arr1))\n",
    "\n",
    "#median--\n",
    "print(np.median(arr1))\n",
    "\n",
    "#for standard deviation--\n",
    "print(np.std(arr1))\n",
    "\n",
    "#for variance--\n",
    "print(np.var(arr1))"
   ]
  },
  {
   "cell_type": "markdown",
   "id": "faf340f3",
   "metadata": {},
   "source": [
    "## Practical- Array Broadcasting in numpy"
   ]
  },
  {
   "cell_type": "code",
   "execution_count": 78,
   "id": "c456ed10",
   "metadata": {},
   "outputs": [
    {
     "name": "stdout",
     "output_type": "stream",
     "text": [
      "[3. 7. 7.]\n",
      "[ 2. 10. 12.]\n",
      "[0.5  0.4  0.75]\n",
      "[ 1. 32. 81.]\n"
     ]
    }
   ],
   "source": [
    "# Various operation between the multiple array can be said as broad casting.\n",
    "a= np.array([1.0,2.0,3.0])\n",
    "b= np.array([2.0,5.0,4.0])\n",
    "print(a+b)\n",
    "print(a*b)\n",
    "print(a/b)\n",
    "print(a**b)"
   ]
  },
  {
   "cell_type": "code",
   "execution_count": null,
   "id": "4e8aa602",
   "metadata": {},
   "outputs": [],
   "source": []
  }
 ],
 "metadata": {
  "kernelspec": {
   "display_name": "Python 3 (ipykernel)",
   "language": "python",
   "name": "python3"
  },
  "language_info": {
   "codemirror_mode": {
    "name": "ipython",
    "version": 3
   },
   "file_extension": ".py",
   "mimetype": "text/x-python",
   "name": "python",
   "nbconvert_exporter": "python",
   "pygments_lexer": "ipython3",
   "version": "3.9.12"
  }
 },
 "nbformat": 4,
 "nbformat_minor": 5
}
