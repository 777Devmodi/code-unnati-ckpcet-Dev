{
 "cells": [
  {
   "cell_type": "markdown",
   "id": "57b052fd",
   "metadata": {},
   "source": [
    "\n",
    "# Unit 1 Python Fundamentals\n"
   ]
  },
  {
   "cell_type": "code",
   "execution_count": 1,
   "id": "73602cb2",
   "metadata": {},
   "outputs": [
    {
     "name": "stdout",
     "output_type": "stream",
     "text": [
      "Namaste CKPCET, Welcome to code unnati program\n"
     ]
    }
   ],
   "source": [
    "#  my first pyhton function\n",
    "print('Namaste CKPCET, Welcome to code unnati program')"
   ]
  },
  {
   "cell_type": "code",
   "execution_count": 2,
   "id": "9bd3c139",
   "metadata": {},
   "outputs": [
    {
     "name": "stdout",
     "output_type": "stream",
     "text": [
      "Hello Surat!!\n"
     ]
    }
   ],
   "source": [
    "print(\"Hello Surat!!\")"
   ]
  },
  {
   "cell_type": "code",
   "execution_count": 3,
   "id": "1085429a",
   "metadata": {},
   "outputs": [
    {
     "data": {
      "text/plain": [
       "33"
      ]
     },
     "execution_count": 3,
     "metadata": {},
     "output_type": "execute_result"
    }
   ],
   "source": [
    "a= 33\n",
    "a"
   ]
  },
  {
   "cell_type": "code",
   "execution_count": null,
   "id": "e8590798",
   "metadata": {},
   "outputs": [],
   "source": []
  },
  {
   "cell_type": "code",
   "execution_count": 4,
   "id": "36429ffc",
   "metadata": {},
   "outputs": [
    {
     "name": "stdout",
     "output_type": "stream",
     "text": [
      "12\n",
      "12.999999\n",
      "Asus\n",
      "False\n"
     ]
    }
   ],
   "source": [
    "A= 12  #int variable\n",
    "B= 12.999999  #float variable\n",
    "C= \"Asus\" # string variable \n",
    "D= False #boolean value\n",
    "print(A)\n",
    "print(B)\n",
    "print(C)\n",
    "print(D)"
   ]
  },
  {
   "cell_type": "code",
   "execution_count": 5,
   "id": "61c8e741",
   "metadata": {},
   "outputs": [
    {
     "data": {
      "text/plain": [
       "12.999999"
      ]
     },
     "execution_count": 5,
     "metadata": {},
     "output_type": "execute_result"
    }
   ],
   "source": [
    "B"
   ]
  },
  {
   "cell_type": "code",
   "execution_count": 6,
   "id": "84703378",
   "metadata": {},
   "outputs": [
    {
     "data": {
      "text/plain": [
       "'Asus'"
      ]
     },
     "execution_count": 6,
     "metadata": {},
     "output_type": "execute_result"
    }
   ],
   "source": [
    "C"
   ]
  },
  {
   "cell_type": "code",
   "execution_count": 7,
   "id": "d3caf614",
   "metadata": {},
   "outputs": [
    {
     "data": {
      "text/plain": [
       "False"
      ]
     },
     "execution_count": 7,
     "metadata": {},
     "output_type": "execute_result"
    }
   ],
   "source": [
    "D"
   ]
  },
  {
   "cell_type": "code",
   "execution_count": 8,
   "id": "eae892f5",
   "metadata": {},
   "outputs": [
    {
     "data": {
      "text/plain": [
       "int"
      ]
     },
     "execution_count": 8,
     "metadata": {},
     "output_type": "execute_result"
    }
   ],
   "source": [
    "#checking the type of\n",
    "type(A)\n"
   ]
  },
  {
   "cell_type": "code",
   "execution_count": 9,
   "id": "966a921f",
   "metadata": {},
   "outputs": [
    {
     "data": {
      "text/plain": [
       "float"
      ]
     },
     "execution_count": 9,
     "metadata": {},
     "output_type": "execute_result"
    }
   ],
   "source": [
    "type(B)\n"
   ]
  },
  {
   "cell_type": "code",
   "execution_count": 10,
   "id": "d54900b5",
   "metadata": {},
   "outputs": [
    {
     "data": {
      "text/plain": [
       "str"
      ]
     },
     "execution_count": 10,
     "metadata": {},
     "output_type": "execute_result"
    }
   ],
   "source": [
    "type(C)\n"
   ]
  },
  {
   "cell_type": "code",
   "execution_count": 11,
   "id": "515e7c94",
   "metadata": {},
   "outputs": [
    {
     "data": {
      "text/plain": [
       "bool"
      ]
     },
     "execution_count": 11,
     "metadata": {},
     "output_type": "execute_result"
    }
   ],
   "source": [
    "type(D)"
   ]
  },
  {
   "cell_type": "code",
   "execution_count": 12,
   "id": "bcd2c9cc",
   "metadata": {},
   "outputs": [],
   "source": [
    "var1=15\n",
    "var2=20.23\n",
    "var3=False\n",
    "var4= \"Hello World\"\n",
    "var5 = '@'\n",
    "var6 = \"true\"\n",
    "var7='true'\n",
    "var8= '+'\n",
    "var9= 12.052e2\n",
    "var10= 12/2\n",
    "var11= None\n",
    "var12= \"3.14562\"\n",
    "var13= \"AMD@i5\"\n",
    "var14=  \"0+ true\"\n",
    "var15= \"@@\""
   ]
  },
  {
   "cell_type": "code",
   "execution_count": 13,
   "id": "34be65a6",
   "metadata": {},
   "outputs": [
    {
     "data": {
      "text/plain": [
       "int"
      ]
     },
     "execution_count": 13,
     "metadata": {},
     "output_type": "execute_result"
    }
   ],
   "source": [
    "type(var1)"
   ]
  },
  {
   "cell_type": "code",
   "execution_count": 14,
   "id": "e622544f",
   "metadata": {},
   "outputs": [
    {
     "data": {
      "text/plain": [
       "float"
      ]
     },
     "execution_count": 14,
     "metadata": {},
     "output_type": "execute_result"
    }
   ],
   "source": [
    "type(var2)"
   ]
  },
  {
   "cell_type": "code",
   "execution_count": 15,
   "id": "aa0ddcc8",
   "metadata": {},
   "outputs": [
    {
     "data": {
      "text/plain": [
       "bool"
      ]
     },
     "execution_count": 15,
     "metadata": {},
     "output_type": "execute_result"
    }
   ],
   "source": [
    "type(var3)"
   ]
  },
  {
   "cell_type": "code",
   "execution_count": 16,
   "id": "6155e399",
   "metadata": {},
   "outputs": [
    {
     "data": {
      "text/plain": [
       "str"
      ]
     },
     "execution_count": 16,
     "metadata": {},
     "output_type": "execute_result"
    }
   ],
   "source": [
    "type(var4)"
   ]
  },
  {
   "cell_type": "code",
   "execution_count": 17,
   "id": "2c0e936f",
   "metadata": {},
   "outputs": [
    {
     "data": {
      "text/plain": [
       "str"
      ]
     },
     "execution_count": 17,
     "metadata": {},
     "output_type": "execute_result"
    }
   ],
   "source": [
    "type(var5)"
   ]
  },
  {
   "cell_type": "code",
   "execution_count": 18,
   "id": "3412718d",
   "metadata": {},
   "outputs": [
    {
     "data": {
      "text/plain": [
       "str"
      ]
     },
     "execution_count": 18,
     "metadata": {},
     "output_type": "execute_result"
    }
   ],
   "source": [
    "type(var6)"
   ]
  },
  {
   "cell_type": "code",
   "execution_count": 19,
   "id": "83a588fe",
   "metadata": {},
   "outputs": [
    {
     "data": {
      "text/plain": [
       "str"
      ]
     },
     "execution_count": 19,
     "metadata": {},
     "output_type": "execute_result"
    }
   ],
   "source": [
    "type(var7)"
   ]
  },
  {
   "cell_type": "code",
   "execution_count": 20,
   "id": "5901cb10",
   "metadata": {},
   "outputs": [
    {
     "data": {
      "text/plain": [
       "str"
      ]
     },
     "execution_count": 20,
     "metadata": {},
     "output_type": "execute_result"
    }
   ],
   "source": [
    "type(var8)"
   ]
  },
  {
   "cell_type": "code",
   "execution_count": 21,
   "id": "435e1136",
   "metadata": {},
   "outputs": [
    {
     "data": {
      "text/plain": [
       "float"
      ]
     },
     "execution_count": 21,
     "metadata": {},
     "output_type": "execute_result"
    }
   ],
   "source": [
    "type(var9)"
   ]
  },
  {
   "cell_type": "code",
   "execution_count": 22,
   "id": "74bb5b46",
   "metadata": {},
   "outputs": [
    {
     "data": {
      "text/plain": [
       "float"
      ]
     },
     "execution_count": 22,
     "metadata": {},
     "output_type": "execute_result"
    }
   ],
   "source": [
    "type(var10)"
   ]
  },
  {
   "cell_type": "code",
   "execution_count": 23,
   "id": "8713894b",
   "metadata": {},
   "outputs": [
    {
     "data": {
      "text/plain": [
       "NoneType"
      ]
     },
     "execution_count": 23,
     "metadata": {},
     "output_type": "execute_result"
    }
   ],
   "source": [
    "type(var11)"
   ]
  },
  {
   "cell_type": "code",
   "execution_count": 24,
   "id": "61d3230d",
   "metadata": {},
   "outputs": [
    {
     "data": {
      "text/plain": [
       "str"
      ]
     },
     "execution_count": 24,
     "metadata": {},
     "output_type": "execute_result"
    }
   ],
   "source": [
    "type(var12)"
   ]
  },
  {
   "cell_type": "code",
   "execution_count": 25,
   "id": "eb8a121d",
   "metadata": {},
   "outputs": [
    {
     "data": {
      "text/plain": [
       "str"
      ]
     },
     "execution_count": 25,
     "metadata": {},
     "output_type": "execute_result"
    }
   ],
   "source": [
    "type(var13)"
   ]
  },
  {
   "cell_type": "code",
   "execution_count": 26,
   "id": "d7788c15",
   "metadata": {},
   "outputs": [
    {
     "data": {
      "text/plain": [
       "str"
      ]
     },
     "execution_count": 26,
     "metadata": {},
     "output_type": "execute_result"
    }
   ],
   "source": [
    "type(var14)"
   ]
  },
  {
   "cell_type": "code",
   "execution_count": 27,
   "id": "443c252b",
   "metadata": {},
   "outputs": [
    {
     "data": {
      "text/plain": [
       "str"
      ]
     },
     "execution_count": 27,
     "metadata": {},
     "output_type": "execute_result"
    }
   ],
   "source": [
    "type(var15)"
   ]
  },
  {
   "cell_type": "markdown",
   "id": "23973027",
   "metadata": {},
   "source": [
    "## mathematical approach on Variables "
   ]
  },
  {
   "cell_type": "code",
   "execution_count": 28,
   "id": "4dd35b6f",
   "metadata": {},
   "outputs": [
    {
     "data": {
      "text/plain": [
       "False"
      ]
     },
     "execution_count": 28,
     "metadata": {},
     "output_type": "execute_result"
    }
   ],
   "source": [
    "D"
   ]
  },
  {
   "cell_type": "code",
   "execution_count": 29,
   "id": "feb71716",
   "metadata": {},
   "outputs": [
    {
     "data": {
      "text/plain": [
       "12.999999"
      ]
     },
     "execution_count": 29,
     "metadata": {},
     "output_type": "execute_result"
    }
   ],
   "source": [
    "B"
   ]
  },
  {
   "cell_type": "code",
   "execution_count": 30,
   "id": "119c328a",
   "metadata": {},
   "outputs": [],
   "source": [
    "var16=B/A"
   ]
  },
  {
   "cell_type": "code",
   "execution_count": 31,
   "id": "766d5463",
   "metadata": {},
   "outputs": [
    {
     "data": {
      "text/plain": [
       "1.0833332500000001"
      ]
     },
     "execution_count": 31,
     "metadata": {},
     "output_type": "execute_result"
    }
   ],
   "source": [
    "var16"
   ]
  },
  {
   "cell_type": "code",
   "execution_count": 32,
   "id": "2d406ced",
   "metadata": {},
   "outputs": [],
   "source": [
    "X=var1*var2"
   ]
  },
  {
   "cell_type": "code",
   "execution_count": 33,
   "id": "6da6fa28",
   "metadata": {},
   "outputs": [
    {
     "data": {
      "text/plain": [
       "303.45"
      ]
     },
     "execution_count": 33,
     "metadata": {},
     "output_type": "execute_result"
    }
   ],
   "source": [
    "X"
   ]
  },
  {
   "cell_type": "code",
   "execution_count": 34,
   "id": "af7c97cc",
   "metadata": {},
   "outputs": [],
   "source": [
    "y= var1+var2-A*B/var9**5"
   ]
  },
  {
   "cell_type": "code",
   "execution_count": 35,
   "id": "d5de2d61",
   "metadata": {},
   "outputs": [
    {
     "data": {
      "text/plain": [
       "35.22999999999994"
      ]
     },
     "execution_count": 35,
     "metadata": {},
     "output_type": "execute_result"
    }
   ],
   "source": [
    "y"
   ]
  },
  {
   "cell_type": "code",
   "execution_count": 36,
   "id": "8b0161ee",
   "metadata": {},
   "outputs": [],
   "source": [
    "z=var2**6"
   ]
  },
  {
   "cell_type": "code",
   "execution_count": 37,
   "id": "7cb79bff",
   "metadata": {},
   "outputs": [
    {
     "data": {
      "text/plain": [
       "68544923.58784416"
      ]
     },
     "execution_count": 37,
     "metadata": {},
     "output_type": "execute_result"
    }
   ],
   "source": [
    "z"
   ]
  },
  {
   "cell_type": "code",
   "execution_count": 38,
   "id": "417a30e9",
   "metadata": {},
   "outputs": [
    {
     "data": {
      "text/plain": [
       "-5.23"
      ]
     },
     "execution_count": 38,
     "metadata": {},
     "output_type": "execute_result"
    }
   ],
   "source": [
    "w=var1-var2\n",
    "w"
   ]
  },
  {
   "cell_type": "markdown",
   "id": "1b420cf4",
   "metadata": {},
   "source": [
    "## Taking the input from the user"
   ]
  },
  {
   "cell_type": "code",
   "execution_count": 39,
   "id": "e3c050e3",
   "metadata": {},
   "outputs": [
    {
     "name": "stdout",
     "output_type": "stream",
     "text": [
      "Enter the value of e :15\n",
      "Enter the value of f :10\n"
     ]
    },
    {
     "data": {
      "text/plain": [
       "150"
      ]
     },
     "execution_count": 39,
     "metadata": {},
     "output_type": "execute_result"
    }
   ],
   "source": [
    "#use input keyboard to take input from the user\n",
    "# ask user to enter the value and store it on a variable e\n",
    "e =int(input(\"Enter the value of e :\"))\n",
    "# ask the user to input the number for f\n",
    "f = int(input(\"Enter the value of f :\"))\n",
    "# performing the calculation of the stored variable \n",
    "res=e*f\n",
    "res"
   ]
  },
  {
   "cell_type": "markdown",
   "id": "25c5f3cc",
   "metadata": {},
   "source": [
    "## String Concatenation"
   ]
  },
  {
   "cell_type": "code",
   "execution_count": 40,
   "id": "b390afda",
   "metadata": {},
   "outputs": [],
   "source": [
    "fname=\"Ashish\"\n",
    "lname=\"Jhangra\"\n",
    "fullname= fname+' '+lname"
   ]
  },
  {
   "cell_type": "code",
   "execution_count": 41,
   "id": "1199dc0d",
   "metadata": {},
   "outputs": [
    {
     "data": {
      "text/plain": [
       "'Ashish Jhangra'"
      ]
     },
     "execution_count": 41,
     "metadata": {},
     "output_type": "execute_result"
    }
   ],
   "source": [
    "fullname"
   ]
  },
  {
   "cell_type": "code",
   "execution_count": 42,
   "id": "2947b4dd",
   "metadata": {},
   "outputs": [],
   "source": [
    "mname=\"manoj\""
   ]
  },
  {
   "cell_type": "code",
   "execution_count": 43,
   "id": "0a0db83f",
   "metadata": {},
   "outputs": [],
   "source": [
    "fullname=fname+\" \"+mname+\" \"+ lname"
   ]
  },
  {
   "cell_type": "code",
   "execution_count": 44,
   "id": "012e1a5e",
   "metadata": {},
   "outputs": [
    {
     "data": {
      "text/plain": [
       "'Ashish manoj Jhangra'"
      ]
     },
     "execution_count": 44,
     "metadata": {},
     "output_type": "execute_result"
    }
   ],
   "source": [
    "fullname"
   ]
  },
  {
   "cell_type": "code",
   "execution_count": 45,
   "id": "6f5ed050",
   "metadata": {},
   "outputs": [
    {
     "name": "stdout",
     "output_type": "stream",
     "text": [
      "Ashish manoj Jhangra\n"
     ]
    }
   ],
   "source": [
    "print(fullname)"
   ]
  },
  {
   "cell_type": "code",
   "execution_count": 46,
   "id": "82efc351",
   "metadata": {},
   "outputs": [
    {
     "data": {
      "text/plain": [
       "20"
      ]
     },
     "execution_count": 46,
     "metadata": {},
     "output_type": "execute_result"
    }
   ],
   "source": [
    "#checking the length of a string\n",
    "len(fullname)"
   ]
  },
  {
   "cell_type": "markdown",
   "id": "66bf54e8",
   "metadata": {},
   "source": [
    "### string Slicing "
   ]
  },
  {
   "cell_type": "code",
   "execution_count": 47,
   "id": "3bf30363",
   "metadata": {},
   "outputs": [
    {
     "data": {
      "text/plain": [
       "'Ashish man'"
      ]
     },
     "execution_count": 47,
     "metadata": {},
     "output_type": "execute_result"
    }
   ],
   "source": [
    "fullname[0:10]"
   ]
  },
  {
   "cell_type": "code",
   "execution_count": 48,
   "id": "cfed4e22",
   "metadata": {},
   "outputs": [
    {
     "data": {
      "text/plain": [
       "'Jhangra'"
      ]
     },
     "execution_count": 48,
     "metadata": {},
     "output_type": "execute_result"
    }
   ],
   "source": [
    "#to get last 4 digit\n",
    "exlname=fullname[-7:]\n",
    "exlname"
   ]
  },
  {
   "cell_type": "markdown",
   "id": "cbd1aafd",
   "metadata": {},
   "source": [
    "## Tuples "
   ]
  },
  {
   "cell_type": "code",
   "execution_count": 103,
   "id": "12fe8dfa",
   "metadata": {},
   "outputs": [],
   "source": [
    "## tuples cannot be changed it can be changes by converting it into the list and then add the item"
   ]
  },
  {
   "cell_type": "code",
   "execution_count": 49,
   "id": "690d03a9",
   "metadata": {},
   "outputs": [],
   "source": [
    "tup1= (\"Hello\",\"India\",\"Gujarat\",45,2022,18.6)"
   ]
  },
  {
   "cell_type": "code",
   "execution_count": 50,
   "id": "58170019",
   "metadata": {},
   "outputs": [
    {
     "data": {
      "text/plain": [
       "('Hello', 'India', 'Gujarat', 45, 2022, 18.6)"
      ]
     },
     "execution_count": 50,
     "metadata": {},
     "output_type": "execute_result"
    }
   ],
   "source": [
    "tup1"
   ]
  },
  {
   "cell_type": "code",
   "execution_count": 51,
   "id": "d1889aec",
   "metadata": {},
   "outputs": [
    {
     "data": {
      "text/plain": [
       "tuple"
      ]
     },
     "execution_count": 51,
     "metadata": {},
     "output_type": "execute_result"
    }
   ],
   "source": [
    "type(tup1)"
   ]
  },
  {
   "cell_type": "code",
   "execution_count": 52,
   "id": "a85921c3",
   "metadata": {},
   "outputs": [
    {
     "data": {
      "text/plain": [
       "2022"
      ]
     },
     "execution_count": 52,
     "metadata": {},
     "output_type": "execute_result"
    }
   ],
   "source": [
    "tup1[4]"
   ]
  },
  {
   "cell_type": "code",
   "execution_count": 53,
   "id": "42fa2073",
   "metadata": {},
   "outputs": [
    {
     "data": {
      "text/plain": [
       "45"
      ]
     },
     "execution_count": 53,
     "metadata": {},
     "output_type": "execute_result"
    }
   ],
   "source": [
    "tup1[3]"
   ]
  },
  {
   "cell_type": "code",
   "execution_count": 109,
   "id": "fc1a7b62",
   "metadata": {},
   "outputs": [],
   "source": [
    "## for getting the multiple value use silicing"
   ]
  },
  {
   "cell_type": "code",
   "execution_count": 54,
   "id": "871b5586",
   "metadata": {},
   "outputs": [
    {
     "data": {
      "text/plain": [
       "('India', 'Gujarat', 45)"
      ]
     },
     "execution_count": 54,
     "metadata": {},
     "output_type": "execute_result"
    }
   ],
   "source": [
    "tup1[1:4]"
   ]
  },
  {
   "cell_type": "code",
   "execution_count": 59,
   "id": "3f2781fa",
   "metadata": {},
   "outputs": [],
   "source": [
    "tup2=(\"Surat\",15.6,120,\"Ashish\")"
   ]
  },
  {
   "cell_type": "code",
   "execution_count": 60,
   "id": "a115f5c7",
   "metadata": {},
   "outputs": [],
   "source": [
    "tup3=tup1+tup2\n"
   ]
  },
  {
   "cell_type": "code",
   "execution_count": 61,
   "id": "9df0b44a",
   "metadata": {},
   "outputs": [
    {
     "data": {
      "text/plain": [
       "('Hello', 'India', 'Gujarat', 45, 2022, 18.6, 'Surat', 15.6, 120, 'Ashish')"
      ]
     },
     "execution_count": 61,
     "metadata": {},
     "output_type": "execute_result"
    }
   ],
   "source": [
    "tup3"
   ]
  },
  {
   "cell_type": "markdown",
   "id": "6effff2c",
   "metadata": {},
   "source": [
    "## List "
   ]
  },
  {
   "cell_type": "code",
   "execution_count": 62,
   "id": "1b486f70",
   "metadata": {},
   "outputs": [],
   "source": [
    "lst=[\"Amit\",\"Mohit\",\"Rajesh\",\"Reena\",150,15.6]"
   ]
  },
  {
   "cell_type": "code",
   "execution_count": 63,
   "id": "a63bb1ae",
   "metadata": {},
   "outputs": [
    {
     "data": {
      "text/plain": [
       "['Amit', 'Mohit', 'Rajesh', 'Reena', 150, 15.6]"
      ]
     },
     "execution_count": 63,
     "metadata": {},
     "output_type": "execute_result"
    }
   ],
   "source": [
    "lst"
   ]
  },
  {
   "cell_type": "code",
   "execution_count": 64,
   "id": "38a5f038",
   "metadata": {},
   "outputs": [
    {
     "data": {
      "text/plain": [
       "list"
      ]
     },
     "execution_count": 64,
     "metadata": {},
     "output_type": "execute_result"
    }
   ],
   "source": [
    "type(lst)"
   ]
  },
  {
   "cell_type": "code",
   "execution_count": 65,
   "id": "725c9971",
   "metadata": {},
   "outputs": [
    {
     "data": {
      "text/plain": [
       "'Rajesh'"
      ]
     },
     "execution_count": 65,
     "metadata": {},
     "output_type": "execute_result"
    }
   ],
   "source": [
    "lst[2]"
   ]
  },
  {
   "cell_type": "code",
   "execution_count": 66,
   "id": "0a0cafff",
   "metadata": {},
   "outputs": [],
   "source": [
    "lst[1]=\"kartik\""
   ]
  },
  {
   "cell_type": "code",
   "execution_count": 67,
   "id": "5abf87b2",
   "metadata": {},
   "outputs": [
    {
     "data": {
      "text/plain": [
       "['Amit', 'kartik', 'Rajesh', 'Reena', 150, 15.6]"
      ]
     },
     "execution_count": 67,
     "metadata": {},
     "output_type": "execute_result"
    }
   ],
   "source": [
    "lst"
   ]
  },
  {
   "cell_type": "code",
   "execution_count": 68,
   "id": "aab0921e",
   "metadata": {},
   "outputs": [],
   "source": [
    "lst1=[\"Amit\",\"Mohit\",\"Rajesh\",\"Reena\",150,15.6,\"Mukesh\",\"Ashish\"]"
   ]
  },
  {
   "cell_type": "code",
   "execution_count": 69,
   "id": "0897dc26",
   "metadata": {},
   "outputs": [
    {
     "data": {
      "text/plain": [
       "list"
      ]
     },
     "execution_count": 69,
     "metadata": {},
     "output_type": "execute_result"
    }
   ],
   "source": [
    "lst1\n",
    "type(lst1)"
   ]
  },
  {
   "cell_type": "code",
   "execution_count": 127,
   "id": "7279b9dc",
   "metadata": {},
   "outputs": [
    {
     "data": {
      "text/plain": [
       "['Amit', 'Mohit', 'Rajesh', 'Reena', 150, 15.6, 'Mukesh', 'Ashish']"
      ]
     },
     "execution_count": 127,
     "metadata": {},
     "output_type": "execute_result"
    }
   ],
   "source": [
    "lst1"
   ]
  },
  {
   "cell_type": "code",
   "execution_count": 128,
   "id": "f2872697",
   "metadata": {},
   "outputs": [
    {
     "data": {
      "text/plain": [
       "8"
      ]
     },
     "execution_count": 128,
     "metadata": {},
     "output_type": "execute_result"
    }
   ],
   "source": [
    "len(lst1)"
   ]
  },
  {
   "cell_type": "code",
   "execution_count": 129,
   "id": "ce604351",
   "metadata": {},
   "outputs": [
    {
     "data": {
      "text/plain": [
       "['Rajesh', 'Reena', 150, 15.6]"
      ]
     },
     "execution_count": 129,
     "metadata": {},
     "output_type": "execute_result"
    }
   ],
   "source": [
    "lst[2:7]"
   ]
  },
  {
   "cell_type": "code",
   "execution_count": 130,
   "id": "30bee21c",
   "metadata": {},
   "outputs": [],
   "source": [
    "#to remove the entry\n",
    "lst1.remove(\"Reena\")"
   ]
  },
  {
   "cell_type": "code",
   "execution_count": 131,
   "id": "289a75d9",
   "metadata": {},
   "outputs": [
    {
     "data": {
      "text/plain": [
       "7"
      ]
     },
     "execution_count": 131,
     "metadata": {},
     "output_type": "execute_result"
    }
   ],
   "source": [
    "len(lst1)"
   ]
  },
  {
   "cell_type": "code",
   "execution_count": 132,
   "id": "52aa6e91",
   "metadata": {},
   "outputs": [
    {
     "data": {
      "text/plain": [
       "['Amit', 'Mohit', 'Rajesh', 150, 15.6, 'Mukesh', 'Ashish']"
      ]
     },
     "execution_count": 132,
     "metadata": {},
     "output_type": "execute_result"
    }
   ],
   "source": [
    "lst1"
   ]
  },
  {
   "cell_type": "markdown",
   "id": "51d8839c",
   "metadata": {},
   "source": [
    "## Dictionary "
   ]
  },
  {
   "cell_type": "code",
   "execution_count": 141,
   "id": "bfed35a8",
   "metadata": {},
   "outputs": [],
   "source": [
    "dict={\"university\":[\"CKPCET\",\"Scet\"],\"Branch\":\"Computer\",\"seats\":150,\"courses\":\"BE\"}"
   ]
  },
  {
   "cell_type": "code",
   "execution_count": 147,
   "id": "2fd623f8",
   "metadata": {},
   "outputs": [
    {
     "data": {
      "text/plain": [
       "150"
      ]
     },
     "execution_count": 147,
     "metadata": {},
     "output_type": "execute_result"
    }
   ],
   "source": [
    "dict['seats']"
   ]
  },
  {
   "cell_type": "code",
   "execution_count": 145,
   "id": "797f313f",
   "metadata": {},
   "outputs": [
    {
     "data": {
      "text/plain": [
       "'Scet'"
      ]
     },
     "execution_count": 145,
     "metadata": {},
     "output_type": "execute_result"
    }
   ],
   "source": [
    "dict['university'][1]"
   ]
  },
  {
   "cell_type": "code",
   "execution_count": 136,
   "id": "7953d70c",
   "metadata": {},
   "outputs": [
    {
     "data": {
      "text/plain": [
       "4"
      ]
     },
     "execution_count": 136,
     "metadata": {},
     "output_type": "execute_result"
    }
   ],
   "source": [
    "len(dict)"
   ]
  },
  {
   "cell_type": "code",
   "execution_count": 137,
   "id": "74117e58",
   "metadata": {},
   "outputs": [
    {
     "data": {
      "text/plain": [
       "dict"
      ]
     },
     "execution_count": 137,
     "metadata": {},
     "output_type": "execute_result"
    }
   ],
   "source": [
    "type(dict)"
   ]
  },
  {
   "cell_type": "markdown",
   "id": "3c1ba49a",
   "metadata": {},
   "source": [
    "# Installing Libraries"
   ]
  },
  {
   "cell_type": "code",
   "execution_count": 148,
   "id": "a917e14c",
   "metadata": {},
   "outputs": [],
   "source": [
    "#  !pip install <packagename>\n",
    "#  !conda install <package>  if we are using anaconda"
   ]
  },
  {
   "cell_type": "markdown",
   "id": "89fa994e",
   "metadata": {},
   "source": [
    "#  Python Conditional Statements"
   ]
  },
  {
   "cell_type": "code",
   "execution_count": 1,
   "id": "5704b9ea",
   "metadata": {},
   "outputs": [
    {
     "name": "stdout",
     "output_type": "stream",
     "text": [
      "Number is positive\n",
      "The statement is true\n"
     ]
    }
   ],
   "source": [
    "# if statement\n",
    "num = 5\n",
    "if num>1:\n",
    "    print(\"Number is positive\")\n",
    "    print(\"The statement is true\")\n",
    "# return nothing if the num is less than 1 "
   ]
  },
  {
   "cell_type": "code",
   "execution_count": 2,
   "id": "af157bd0",
   "metadata": {},
   "outputs": [
    {
     "name": "stdout",
     "output_type": "stream",
     "text": [
      "The number is Negative\n"
     ]
    }
   ],
   "source": [
    "#if-else statement \n",
    "no = -8\n",
    "if no > 1:\n",
    "    print(\"The number is Positive\")\n",
    "else: \n",
    "    print(\"The number is Negative\")"
   ]
  },
  {
   "cell_type": "code",
   "execution_count": null,
   "id": "6ef2a267",
   "metadata": {},
   "outputs": [],
   "source": []
  }
 ],
 "metadata": {
  "kernelspec": {
   "display_name": "Python 3 (ipykernel)",
   "language": "python",
   "name": "python3"
  },
  "language_info": {
   "codemirror_mode": {
    "name": "ipython",
    "version": 3
   },
   "file_extension": ".py",
   "mimetype": "text/x-python",
   "name": "python",
   "nbconvert_exporter": "python",
   "pygments_lexer": "ipython3",
   "version": "3.9.12"
  }
 },
 "nbformat": 4,
 "nbformat_minor": 5
}
